{
  "nbformat": 4,
  "nbformat_minor": 0,
  "metadata": {
    "colab": {
      "provenance": []
    },
    "kernelspec": {
      "name": "python3",
      "display_name": "Python 3"
    },
    "language_info": {
      "name": "python"
    }
  },
  "cells": [
    {
      "cell_type": "code",
      "execution_count": null,
      "metadata": {
        "id": "PPcmoXGuHmgL"
      },
      "outputs": [],
      "source": [
        "import tensorflow as tf\n",
        "from tensorflow import keras\n",
        "from tensorflow.keras import layers\n",
        "from tensorflow.keras.preprocessing.image import ImageDataGenerator\n",
        "IMG_SIZE=224\n",
        "BATCH_SIZE=32"
      ]
    },
    {
      "cell_type": "code",
      "source": [
        "train_datagen=ImageDataGenerator(rescale=1./255,validation_split=0.2)\n",
        "train_generator=train_datagen.flow_from_directory(\"/content/drive/MyDrive/smile test\",target_size=(IMG_SIZE,IMG_SIZE),\n",
        "                                                  batch_size=BATCH_SIZE,class_mode='binary',subset='training')\n",
        "val_generator=train_datagen.flow_from_directory(\"/content/drive/MyDrive/smile test\",target_size=(IMG_SIZE,IMG_SIZE),batch_size=BATCH_SIZE,class_mode='binary',subset='validation')\n",
        "test_datagen=ImageDataGenerator(rescale=1./225)\n",
        "test_generator=test_datagen.flow_from_directory(\"/content/drive/MyDrive/SMILE TEST2\",target_size=(IMG_SIZE,IMG_SIZE),batch_size=BATCH_SIZE,class_mode='binary')"
      ],
      "metadata": {
        "id": "aHp9MiCVHzE8",
        "colab": {
          "base_uri": "https://localhost:8080/"
        },
        "outputId": "86df32be-38bb-4bd5-cc46-acae89fc7edc"
      },
      "execution_count": null,
      "outputs": [
        {
          "output_type": "stream",
          "name": "stdout",
          "text": [
            "Found 660 images belonging to 2 classes.\n",
            "Found 164 images belonging to 2 classes.\n",
            "Found 100 images belonging to 1 classes.\n"
          ]
        }
      ]
    },
    {
      "cell_type": "code",
      "source": [
        "model=keras.Sequential([layers.Conv2D(32,(3,3),activation='relu',input_shape=(IMG_SIZE,IMG_SIZE,3)),\n",
        "layers.MaxPooling2D((2,2)),\n",
        "layers.Conv2D(32,(3,3),activation='relu'),\n",
        "layers.MaxPooling2D((2,2)),\n",
        "layers.Conv2D(64,(3,3),activation='relu'),\n",
        "layers.MaxPooling2D((2,2)),\n",
        "layers.Flatten(),\n",
        "layers.Dense(128,activation='relu'),\n",
        "layers.Dense(1,activation='sigmoid')])"
      ],
      "metadata": {
        "id": "6LUpvjIA9mrY"
      },
      "execution_count": null,
      "outputs": []
    },
    {
      "cell_type": "code",
      "source": [
        "model.compile(optimizer='adam',loss='binary_crossentropy',metrics=['accurracy'])"
      ],
      "metadata": {
        "id": "QnRRyTCyAffm"
      },
      "execution_count": null,
      "outputs": []
    },
    {
      "cell_type": "code",
      "source": [
        "history=model.fit(train_generator,validation_data=val_generator,epochs=5)"
      ],
      "metadata": {
        "colab": {
          "base_uri": "https://localhost:8080/"
        },
        "id": "wNMgLkDx9rX1",
        "outputId": "27b0455b-022a-412d-8944-cf5e8117bea5"
      },
      "execution_count": null,
      "outputs": [
        {
          "output_type": "stream",
          "name": "stdout",
          "text": [
            "Epoch 1/5\n",
            "21/21 [==============================] - 53s 2s/step - loss: 0.2666 - accuracy: 0.9030 - val_loss: 0.2243 - val_accuracy: 0.9146\n",
            "Epoch 2/5\n",
            "21/21 [==============================] - 49s 2s/step - loss: 0.1557 - accuracy: 0.9379 - val_loss: 0.2414 - val_accuracy: 0.9207\n",
            "Epoch 3/5\n",
            "21/21 [==============================] - 48s 2s/step - loss: 0.1263 - accuracy: 0.9500 - val_loss: 0.2529 - val_accuracy: 0.9024\n",
            "Epoch 4/5\n",
            "21/21 [==============================] - 48s 2s/step - loss: 0.1062 - accuracy: 0.9652 - val_loss: 0.2325 - val_accuracy: 0.9329\n",
            "Epoch 5/5\n",
            "21/21 [==============================] - 46s 2s/step - loss: 0.0583 - accuracy: 0.9773 - val_loss: 0.2635 - val_accuracy: 0.9268\n"
          ]
        }
      ]
    },
    {
      "cell_type": "code",
      "source": [
        "model.save(\"Smile.h5\",\"label.txt\")"
      ],
      "metadata": {
        "id": "mzQ7Hkxr_7p1"
      },
      "execution_count": null,
      "outputs": []
    },
    {
      "cell_type": "code",
      "source": [
        "from tensorflow.keras.models import load_model\n",
        "from tensorflow.keras.preprocessing import image\n",
        "import numpy as np\n",
        "model=load_model('/content/Smile.h5')\n",
        "test_image_path='/content/drive/MyDrive/smile test/non_smile/Carson_Daly_0001.jpg'\n",
        "img=image.load_img(test_image_path,target_size=(224,224))\n",
        "img_array=image.img_to_array(img)\n",
        "img_array=np.expand_dims(img_array,axis=0)\n",
        "img_array /=255.\n",
        "prediction=model.predict(img_array)\n",
        "if prediction<0.5:\n",
        "    print(\"Prediction:Smile(Probability:\",prediction[0][0],\")\")\n",
        "else:\n",
        "    print(\"Prediction:Not a smile(probability:\",prediction[0][0],\")\")"
      ],
      "metadata": {
        "id": "pwR7fubBB1KR",
        "colab": {
          "base_uri": "https://localhost:8080/"
        },
        "outputId": "a59e01c2-456c-4774-a1e6-956f4dccc603"
      },
      "execution_count": 12,
      "outputs": [
        {
          "output_type": "stream",
          "name": "stdout",
          "text": [
            "1/1 [==============================] - 0s 88ms/step\n",
            "Prediction:Smile(Probability: 0.0002348629 )\n"
          ]
        }
      ]
    }
  ]
}