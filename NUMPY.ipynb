{
  "nbformat": 4,
  "nbformat_minor": 0,
  "metadata": {
    "colab": {
      "provenance": []
    },
    "kernelspec": {
      "name": "python3",
      "display_name": "Python 3"
    },
    "language_info": {
      "name": "python"
    }
  },
  "cells": [
    {
      "cell_type": "code",
      "execution_count": null,
      "metadata": {
        "id": "2Cc3CA5gBVHk",
        "colab": {
          "base_uri": "https://localhost:8080/"
        },
        "outputId": "e37ebe18-362b-4be2-e272-d0480f482e67"
      },
      "outputs": [
        {
          "output_type": "stream",
          "name": "stdout",
          "text": [
            "[1 2 3 4 5]\n"
          ]
        }
      ],
      "source": [
        "import numpy as np\n",
        "arr=np.array([1,2,3,4,5])\n",
        "print(arr)"
      ]
    },
    {
      "cell_type": "code",
      "source": [
        "zeros_arr= np.zeros((3,3), dtype=int)\n",
        "print(zeros_arr)\n",
        "ones_arr =np.ones((2, 2), dtype=int)\n",
        "print(ones_arr)\n"
      ],
      "metadata": {
        "colab": {
          "base_uri": "https://localhost:8080/"
        },
        "id": "i1WciWPVOc1n",
        "outputId": "4054d6fc-3b19-4b2f-de0f-6549f87a6d04"
      },
      "execution_count": null,
      "outputs": [
        {
          "output_type": "stream",
          "name": "stdout",
          "text": [
            "[[0 0 0]\n",
            " [0 0 0]\n",
            " [0 0 0]]\n",
            "[[1 1]\n",
            " [1 1]]\n"
          ]
        }
      ]
    },
    {
      "cell_type": "code",
      "source": [
        "arange_arr=np.arange(10)\n",
        "print(arange_arr)"
      ],
      "metadata": {
        "colab": {
          "base_uri": "https://localhost:8080/"
        },
        "id": "Yc-vBpI5QZKK",
        "outputId": "626989f8-3835-41d1-acfa-00385f950e05"
      },
      "execution_count": null,
      "outputs": [
        {
          "output_type": "stream",
          "name": "stdout",
          "text": [
            "[0 1 2 3 4 5 6 7 8 9]\n"
          ]
        }
      ]
    },
    {
      "cell_type": "code",
      "source": [
        "arr=np.array([1,2,3,4,5])\n",
        "reshaped_arr=arr.reshape(5,1)\n",
        "print(reshaped_arr)"
      ],
      "metadata": {
        "colab": {
          "base_uri": "https://localhost:8080/"
        },
        "id": "0GTUeWaLQg7t",
        "outputId": "b120abbe-c60f-440f-e857-e231695672fe"
      },
      "execution_count": null,
      "outputs": [
        {
          "output_type": "stream",
          "name": "stdout",
          "text": [
            "[[1]\n",
            " [2]\n",
            " [3]\n",
            " [4]\n",
            " [5]]\n"
          ]
        }
      ]
    },
    {
      "cell_type": "code",
      "source": [
        "sliced_arr=arr[2:4]\n",
        "print(sliced_arr)"
      ],
      "metadata": {
        "colab": {
          "base_uri": "https://localhost:8080/"
        },
        "id": "VXCXNpR9RMKc",
        "outputId": "989c93b0-94eb-4d1a-e966-0461e5878110"
      },
      "execution_count": null,
      "outputs": [
        {
          "output_type": "stream",
          "name": "stdout",
          "text": [
            "[3 4]\n"
          ]
        }
      ]
    },
    {
      "cell_type": "code",
      "source": [
        "a=np.array([1,2,3,4,5,6,7,8])\n",
        "b=a.T\n",
        "print(b)"
      ],
      "metadata": {
        "colab": {
          "base_uri": "https://localhost:8080/"
        },
        "id": "I2EzoUFoRbHO",
        "outputId": "6fcbcd10-c4ee-4830-f99d-6772eac9d877"
      },
      "execution_count": null,
      "outputs": [
        {
          "output_type": "stream",
          "name": "stdout",
          "text": [
            "[1 2 3 4 5 6 7 8]\n"
          ]
        }
      ]
    },
    {
      "cell_type": "code",
      "source": [
        "b=np.array([1,2,3,4,5,6,7,8])\n",
        "b=np.split(a,4)\n",
        "print(b)"
      ],
      "metadata": {
        "colab": {
          "base_uri": "https://localhost:8080/"
        },
        "id": "ZTSI5SHbRyEa",
        "outputId": "77042db0-b28d-4a81-d44e-dba514d68adb"
      },
      "execution_count": null,
      "outputs": [
        {
          "output_type": "stream",
          "name": "stdout",
          "text": [
            "[array([1, 2]), array([3, 4]), array([5, 6]), array([7, 8])]\n"
          ]
        }
      ]
    },
    {
      "cell_type": "code",
      "source": [
        "a=np.array([[1,2],[3,4]])\n",
        "b=np.array([[5,6],[7,8]])\n",
        "c=np.dot(a,b)\n",
        "print(c)\n",
        "d=np.linalg.eig(c)\n",
        "print(d)"
      ],
      "metadata": {
        "colab": {
          "base_uri": "https://localhost:8080/"
        },
        "id": "y4E9YqhAT1WB",
        "outputId": "cb6f0ee1-6c9f-4040-ff6c-948682a99b82"
      },
      "execution_count": null,
      "outputs": [
        {
          "output_type": "stream",
          "name": "stdout",
          "text": [
            "[[19 22]\n",
            " [43 50]]\n",
            "EigResult(eigenvalues=array([5.80198014e-02, 6.89419802e+01]), eigenvectors=array([[-0.75781077, -0.40313049],\n",
            "       [ 0.65247439, -0.91514251]]))\n"
          ]
        }
      ]
    },
    {
      "cell_type": "code",
      "source": [
        "import numpy as np\n",
        "data= np.loadtxt(\"/content/drive/MyDrive/Data set/DAP.txt\",dtype=int)\n",
        "d=np.savetxt(\"/content/date.txt\",data)\n",
        "print(d)\n",
        "print(data)"
      ],
      "metadata": {
        "colab": {
          "base_uri": "https://localhost:8080/"
        },
        "id": "EPBoccXCYUSV",
        "outputId": "c804fe12-28e8-4324-f2e1-329c28f9b4ec"
      },
      "execution_count": null,
      "outputs": [
        {
          "output_type": "stream",
          "name": "stdout",
          "text": [
            "None\n",
            "[  1   2   3   4   5   6  66   7   8  88  99 100]\n"
          ]
        }
      ]
    },
    {
      "cell_type": "code",
      "source": [
        "arange_arr=np.arange(0,100,5)\n",
        "print(arange_arr)\n",
        "d=np.savetxt(\"/content/DATA.txt.TXT\",arange_arr)"
      ],
      "metadata": {
        "colab": {
          "base_uri": "https://localhost:8080/"
        },
        "id": "MvO6HRrtw3pt",
        "outputId": "34f9e9c3-1872-444e-a35e-b58fe0e6dfc8"
      },
      "execution_count": null,
      "outputs": [
        {
          "output_type": "stream",
          "name": "stdout",
          "text": [
            "[ 0  5 10 15 20 25 30 35 40 45 50 55 60 65 70 75 80 85 90 95]\n"
          ]
        }
      ]
    },
    {
      "cell_type": "code",
      "source": [
        "a=np.random.rand()\n",
        "print(a)"
      ],
      "metadata": {
        "colab": {
          "base_uri": "https://localhost:8080/"
        },
        "id": "40fYW8Vi1vdj",
        "outputId": "1d7cfa97-b068-4582-a671-34efe9a25a02"
      },
      "execution_count": null,
      "outputs": [
        {
          "output_type": "stream",
          "name": "stdout",
          "text": [
            "0.12775541175399663\n"
          ]
        }
      ]
    },
    {
      "cell_type": "code",
      "source": [
        "a=np.random.rand()\n",
        "b=np.random.randint(0,2)\n",
        "print(a)\n",
        "print(b)"
      ],
      "metadata": {
        "colab": {
          "base_uri": "https://localhost:8080/"
        },
        "id": "u3zozlnU2U6i",
        "outputId": "6957f858-d366-46b0-dd39-458f26e96842"
      },
      "execution_count": null,
      "outputs": [
        {
          "output_type": "stream",
          "name": "stdout",
          "text": [
            "0.3729315119149952\n",
            "1\n"
          ]
        }
      ]
    },
    {
      "cell_type": "markdown",
      "source": [
        "a=np.array([[1,2],[3,4]])\n",
        "print(type(a))\n",
        "print(a.ndim)\n",
        "print(a.shape)"
      ],
      "metadata": {
        "id": "pxP779Dd295K"
      }
    },
    {
      "cell_type": "code",
      "source": [
        "a=np.linspace(0.8,2,5)\n",
        "print(a)\n",
        "b=np.arange(24).reshape(2,3,4)\n",
        "print(b)"
      ],
      "metadata": {
        "colab": {
          "base_uri": "https://localhost:8080/"
        },
        "id": "2yQlCavb3-am",
        "outputId": "63e0efea-d6bd-4404-c686-cf19fb17e4b0"
      },
      "execution_count": null,
      "outputs": [
        {
          "output_type": "stream",
          "name": "stdout",
          "text": [
            "[0.8 1.1 1.4 1.7 2. ]\n",
            "[[[ 0  1  2  3]\n",
            "  [ 4  5  6  7]\n",
            "  [ 8  9 10 11]]\n",
            "\n",
            " [[12 13 14 15]\n",
            "  [16 17 18 19]\n",
            "  [20 21 22 23]]]\n"
          ]
        }
      ]
    },
    {
      "cell_type": "code",
      "source": [
        "a=np.array([[1,2],[3,4]])\n",
        "b=np.array([[5,6],[7,8]])\n",
        "print(a*b)\n",
        "print(a@b)\n",
        "c=np.dot(a,b)\n",
        "print(c)"
      ],
      "metadata": {
        "colab": {
          "base_uri": "https://localhost:8080/"
        },
        "id": "X02mM5uF4iQS",
        "outputId": "32b33d3c-88bf-4236-cf83-3eefc1c9f6bc"
      },
      "execution_count": null,
      "outputs": [
        {
          "output_type": "stream",
          "name": "stdout",
          "text": [
            "[[ 5 12]\n",
            " [21 32]]\n",
            "[[19 22]\n",
            " [43 50]]\n",
            "[[19 22]\n",
            " [43 50]]\n"
          ]
        }
      ]
    },
    {
      "cell_type": "code",
      "source": [
        "from numpy import random\n",
        "a=np.ones((2,3),dtype=int)\n",
        "print(a.sum(axis=0))\n",
        "b=np.ceil(np.random.random((2,2)))\n",
        "print(b)\n",
        "c=np.random.random((2,2))\n",
        "print(c)"
      ],
      "metadata": {
        "colab": {
          "base_uri": "https://localhost:8080/"
        },
        "id": "893UoRka89Me",
        "outputId": "f791dabf-fc0b-4b85-d6f9-923ae1ebcda7"
      },
      "execution_count": null,
      "outputs": [
        {
          "output_type": "stream",
          "name": "stdout",
          "text": [
            "[2 2 2]\n",
            "[[1. 1.]\n",
            " [1. 1.]]\n",
            "[[0.85735698 0.70250205]\n",
            " [0.09059821 0.39906886]]\n"
          ]
        }
      ]
    },
    {
      "cell_type": "code",
      "source": [
        "from numpy import random\n",
        "a=np.ones((2,3),dtype=int)\n",
        "print(a.min(axis=0))"
      ],
      "metadata": {
        "colab": {
          "base_uri": "https://localhost:8080/"
        },
        "id": "eTyqY4ZOANTp",
        "outputId": "d0862aff-8582-49c7-d928-830a1e889d4e"
      },
      "execution_count": null,
      "outputs": [
        {
          "output_type": "stream",
          "name": "stdout",
          "text": [
            "[1 1 1]\n"
          ]
        }
      ]
    },
    {
      "cell_type": "code",
      "source": [
        "a=np.array([[1,2],[3,4]])\n",
        "b=np.array([[5,6],[7,8]])\n",
        "print(a.cumsum(axis=0))\n"
      ],
      "metadata": {
        "colab": {
          "base_uri": "https://localhost:8080/"
        },
        "id": "aObE8PaHA1Ye",
        "outputId": "dd5982ce-0bee-4236-9d9c-350186547fca"
      },
      "execution_count": null,
      "outputs": [
        {
          "output_type": "stream",
          "name": "stdout",
          "text": [
            "[[1 2]\n",
            " [4 6]]\n"
          ]
        }
      ]
    },
    {
      "cell_type": "code",
      "source": [
        "a=np.array([2,3,5,6])\n",
        "b=a.resize(3,2)\n",
        "print(b)\n",
        "print(a.shape)\n",
        "c=np.array([1,2,3,4,5])\n",
        "c=a.resize(2,3)\n",
        "d=np.array([2,3,4,5,6])\n",
        "d=a.resize(2,3)\n",
        "print(np.vstack((c,d)))\n",
        "print(np.vstack((c,d)))\n",
        "f=np.arange(2,3,5)\n",
        "print(f)\n",
        "print(np.dstack(a))"
      ],
      "metadata": {
        "colab": {
          "base_uri": "https://localhost:8080/"
        },
        "id": "tosrd2IyBjvN",
        "outputId": "3bcd2c23-011e-47a1-904a-60eef12d6f40"
      },
      "execution_count": null,
      "outputs": [
        {
          "output_type": "stream",
          "name": "stdout",
          "text": [
            "None\n",
            "(3, 2)\n",
            "[[None]\n",
            " [None]]\n",
            "[[None]\n",
            " [None]]\n",
            "[2]\n",
            "[[[2 6]\n",
            "  [3 0]\n",
            "  [5 0]]]\n"
          ]
        }
      ]
    },
    {
      "cell_type": "code",
      "source": [
        "import numpy as np\n",
        "a1=np.eye(4)\n",
        "print(a1)"
      ],
      "metadata": {
        "colab": {
          "base_uri": "https://localhost:8080/"
        },
        "id": "R4hNJYRbaq76",
        "outputId": "9749bacd-fa00-4b9a-cafa-b3c73474657d"
      },
      "execution_count": null,
      "outputs": [
        {
          "output_type": "stream",
          "name": "stdout",
          "text": [
            "[[1. 0. 0. 0.]\n",
            " [0. 1. 0. 0.]\n",
            " [0. 0. 1. 0.]\n",
            " [0. 0. 0. 1.]]\n"
          ]
        }
      ]
    },
    {
      "cell_type": "code",
      "source": [
        "x=[1,2,3]\n",
        "a=np.asarray(x)\n",
        "print(a)\n",
        "print(type(a))"
      ],
      "metadata": {
        "colab": {
          "base_uri": "https://localhost:8080/"
        },
        "id": "bAM4qlEZ92f4",
        "outputId": "0c139dd6-515d-4fb8-8b79-6c2698b9122b"
      },
      "execution_count": null,
      "outputs": [
        {
          "output_type": "stream",
          "name": "stdout",
          "text": [
            "[1 2 3]\n",
            "<class 'numpy.ndarray'>\n"
          ]
        }
      ]
    },
    {
      "cell_type": "code",
      "source": [
        "x=np.array([1,4,0],float)\n",
        "y=np.array([2,2,1],float)\n",
        "print(np.inner(x,y))\n",
        "print(np.outer(x,y))\n",
        "print(np.cross(x,y))"
      ],
      "metadata": {
        "colab": {
          "base_uri": "https://localhost:8080/"
        },
        "id": "VssfC5tY-bbl",
        "outputId": "e28f72c9-0521-436b-8d8c-4c3a2a07b82e"
      },
      "execution_count": null,
      "outputs": [
        {
          "output_type": "stream",
          "name": "stdout",
          "text": [
            "10.0\n",
            "[[2. 2. 1.]\n",
            " [8. 8. 4.]\n",
            " [0. 0. 0.]]\n",
            "[ 4. -1. -6.]\n"
          ]
        }
      ]
    },
    {
      "cell_type": "markdown",
      "source": [
        "cross product is not produced"
      ],
      "metadata": {
        "id": "CbWkl-yKAdNf"
      }
    },
    {
      "cell_type": "markdown",
      "source": [
        "number of rows become number of group\n",
        "column become rows group become column"
      ],
      "metadata": {
        "id": "3cJuj88gFo7Y"
      }
    },
    {
      "cell_type": "code",
      "source": [
        "a=np.array([1.2,1.3,3.4,3.5,4.1,5.2,4.2])\n",
        "np.rint(a)\n"
      ],
      "metadata": {
        "colab": {
          "base_uri": "https://localhost:8080/"
        },
        "id": "DCUNAhleAq26",
        "outputId": "5520a6ea-032e-49c9-87be-f9c81575298c"
      },
      "execution_count": null,
      "outputs": [
        {
          "output_type": "execute_result",
          "data": {
            "text/plain": [
              "array([1., 1., 3., 4., 4., 5., 4.])"
            ]
          },
          "metadata": {},
          "execution_count": 9
        }
      ]
    },
    {
      "cell_type": "code",
      "source": [
        "a=np.array([10,25,30,45,50])\n",
        "b=np.array([60,70,85,90,35])\n",
        "np.true_divide(a,b)"
      ],
      "metadata": {
        "colab": {
          "base_uri": "https://localhost:8080/"
        },
        "id": "yb4cPPClBUBm",
        "outputId": "2fd97a1d-5b54-4525-89f7-f0037e38da08"
      },
      "execution_count": null,
      "outputs": [
        {
          "output_type": "execute_result",
          "data": {
            "text/plain": [
              "array([0.16666667, 0.35714286, 0.35294118, 0.5       , 1.42857143])"
            ]
          },
          "metadata": {},
          "execution_count": 11
        }
      ]
    },
    {
      "cell_type": "markdown",
      "source": [
        "this funtion used to divide the elments which are present in the array"
      ],
      "metadata": {
        "id": "gmx2pHs4B0xI"
      }
    },
    {
      "cell_type": "code",
      "source": [
        "a=np.array([2,2,3,3,4,4])\n",
        "np.unique(a)"
      ],
      "metadata": {
        "colab": {
          "base_uri": "https://localhost:8080/"
        },
        "id": "9haLzrTjCBDU",
        "outputId": "8318ca86-925d-49ef-bdbf-11acac4b4dd9"
      },
      "execution_count": null,
      "outputs": [
        {
          "output_type": "execute_result",
          "data": {
            "text/plain": [
              "array([2, 3, 4])"
            ]
          },
          "metadata": {},
          "execution_count": 12
        }
      ]
    },
    {
      "cell_type": "markdown",
      "source": [
        "it removes the duplicate values of the elements"
      ],
      "metadata": {
        "id": "TQM9NB8VCSu8"
      }
    },
    {
      "cell_type": "code",
      "source": [
        "\n",
        "import numpy as np\n",
        "a=np.array([[1,2],[2,3]])\n",
        "b=np.array([[4,5],[2,6]])\n",
        "np.setdiff1d(a,b)"
      ],
      "metadata": {
        "colab": {
          "base_uri": "https://localhost:8080/"
        },
        "id": "NprGDndICY98",
        "outputId": "f4ded0de-d53b-4980-e9e9-cdd9918c1d31"
      },
      "execution_count": null,
      "outputs": [
        {
          "output_type": "execute_result",
          "data": {
            "text/plain": [
              "array([1, 3])"
            ]
          },
          "metadata": {},
          "execution_count": 21
        }
      ]
    },
    {
      "cell_type": "markdown",
      "source": [
        "1.this intersect function will given a common elements in an array"
      ],
      "metadata": {
        "id": "yhSvX3lzDpqo"
      }
    },
    {
      "cell_type": "markdown",
      "source": [],
      "metadata": {
        "id": "q0-0gyPODlsw"
      }
    },
    {
      "cell_type": "markdown",
      "source": [
        "this function used to union the elements which are present in the array"
      ],
      "metadata": {
        "id": "rd3xZsnxDKxU"
      }
    },
    {
      "cell_type": "markdown",
      "source": [
        "this function used to round figure the value for entire matrix or an array"
      ],
      "metadata": {
        "id": "9P2aC7nCBHZZ"
      }
    },
    {
      "cell_type": "code",
      "source": [
        "a=8\n",
        "b=6\n",
        "c=np.hypot(a,b)\n",
        "print(c)\n",
        "x=np.sin(0)\n",
        "print(x)\n",
        "a=np.array([10,21,30,40,50,60])\n",
        "b=np.array([20,21,2,20,25,25])\n",
        "c=np.multiply(a,b)\n",
        "c=np.matmul(a,b)\n",
        "print(c)"
      ],
      "metadata": {
        "colab": {
          "base_uri": "https://localhost:8080/"
        },
        "id": "Zom6ZeYDDSF3",
        "outputId": "9239b081-6c8a-4e99-aecb-006d6044cad9"
      },
      "execution_count": null,
      "outputs": [
        {
          "output_type": "stream",
          "name": "stdout",
          "text": [
            "10.0\n",
            "0.0\n",
            "4251\n"
          ]
        }
      ]
    },
    {
      "cell_type": "markdown",
      "source": [],
      "metadata": {
        "id": "MmMNw2lIGQX3"
      }
    },
    {
      "cell_type": "markdown",
      "source": [
        "1st array consist qoutient and 2nd array consist remainder"
      ],
      "metadata": {
        "id": "XRdmj0NLGK1I"
      }
    },
    {
      "cell_type": "code",
      "source": [
        "from  numpy import random\n",
        "x=random.normal(size=(2,3))\n",
        "print(x)\n",
        "y=random.normal(loc=1,scale=2,size=(2,3))\n",
        "print(y)\n",
        "z=random.binomial(n=12,p=0.5,size=10)\n",
        "print(z)\n",
        "p=random.poisson(lam=2,size=10)\n",
        "print(p)\n",
        "q=random.choice([3,5],p=[0.5,0.5],size=(3,5))\n",
        "print(q)\n"
      ],
      "metadata": {
        "colab": {
          "base_uri": "https://localhost:8080/"
        },
        "id": "m-pUfkJgHJWn",
        "outputId": "8f4c32db-0e40-483b-f6b5-0063c3305e33"
      },
      "execution_count": null,
      "outputs": [
        {
          "output_type": "stream",
          "name": "stdout",
          "text": [
            "[[ 4.15791153e-01  4.29428683e-01 -3.27042728e+00]\n",
            " [ 2.34473617e-01 -1.34401287e-01 -1.29098639e-03]]\n",
            "[[ 2.59187575  0.19230366 -1.29945542]\n",
            " [ 1.39991002  0.57129015  3.29468028]]\n",
            "[3 9 9 6 8 6 6 9 8 5]\n",
            "[0 6 0 1 1 3 0 3 3 0]\n",
            "[[5 5 5 5 5]\n",
            " [3 5 5 3 5]\n",
            " [3 5 5 5 3]]\n"
          ]
        }
      ]
    },
    {
      "cell_type": "code",
      "source": [
        "import numpy as np\n",
        "a=np.ones((2,3),dtype=int)\n",
        "print(a.min(axis=0))\n"
      ],
      "metadata": {
        "colab": {
          "base_uri": "https://localhost:8080/"
        },
        "id": "s4PZwtp9dJf5",
        "outputId": "75d7a5b0-71ce-4be6-83ae-28dd3debd650"
      },
      "execution_count": null,
      "outputs": [
        {
          "output_type": "stream",
          "name": "stdout",
          "text": [
            "[1 1 1]\n"
          ]
        }
      ]
    },
    {
      "cell_type": "markdown",
      "source": [],
      "metadata": {
        "id": "2cznsIFhFEJs"
      }
    },
    {
      "cell_type": "code",
      "source": [
        "import numpy as np\n",
        "import matplotlib.pyplot as plt\n",
        "runs = np.array([100,50,91,78,89,25,34,19,9,10])\n",
        "w = np.array([1,0,2,0,3,7,8,9,7,5])\n",
        "plt.scatter(runs,w,color='orange')\n",
        "plt.title('IndvsAus_score')\n",
        "plt.show()"
      ],
      "metadata": {
        "id": "qDgaS2CbX7fq",
        "outputId": "a9d38ec5-62a8-4af5-9ea6-b085b0ade8f6",
        "colab": {
          "base_uri": "https://localhost:8080/",
          "height": 452
        }
      },
      "execution_count": null,
      "outputs": [
        {
          "output_type": "display_data",
          "data": {
            "text/plain": [
              "<Figure size 640x480 with 1 Axes>"
            ],
            "image/png": "[encoded data removed]"
          },
          "metadata": {}
        }
      ]
    }
  ]
}