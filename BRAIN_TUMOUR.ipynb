{
  "nbformat": 4,
  "nbformat_minor": 0,
  "metadata": {
    "colab": {
      "provenance": []
    },
    "kernelspec": {
      "name": "python3",
      "display_name": "Python 3"
    },
    "language_info": {
      "name": "python"
    }
  },
  "cells": [
    {
      "cell_type": "code",
      "source": [
        "import tensorflow as tf\n",
        "from tensorflow import keras\n",
        "from tensorflow.keras import layers\n",
        "from tensorflow.keras.preprocessing.image import ImageDataGenerator\n",
        "IMG_SIZE=224\n",
        "BATCH_SIZE=32"
      ],
      "metadata": {
        "id": "vhvjz2xIjhxk"
      },
      "execution_count": null,
      "outputs": []
    },
    {
      "cell_type": "code",
      "source": [
        "train_datagen=ImageDataGenerator(rescale=1./255,validation_split=0.2)\n",
        "train_generator=train_datagen.flow_from_directory(\"/content/drive/MyDrive/KOGGLE/TRAIN\",target_size=(IMG_SIZE,IMG_SIZE),\n",
        "                                                  batch_size=BATCH_SIZE,class_mode='binary',subset='training')\n",
        "val_generator=train_datagen.flow_from_directory(\"/content/drive/MyDrive/KOGGLE/TRAIN\",target_size=(IMG_SIZE,IMG_SIZE),batch_size=BATCH_SIZE,class_mode='binary',subset='validation')\n",
        "test_datagen=ImageDataGenerator(rescale=1./225)\n",
        "test_generator=test_datagen.flow_from_directory(\"/content/drive/MyDrive/KOGGLE/TEST\",target_size=(IMG_SIZE,IMG_SIZE),batch_size=BATCH_SIZE,class_mode='binary')"
      ],
      "metadata": {
        "id": "Qv2gGHn8baSV",
        "colab": {
          "base_uri": "https://localhost:8080/"
        },
        "outputId": "b0044520-5305-4843-aee3-04e6618db352"
      },
      "execution_count": null,
      "outputs": [
        {
          "output_type": "stream",
          "name": "stdout",
          "text": [
            "Found 2400 images belonging to 2 classes.\n",
            "Found 600 images belonging to 2 classes.\n",
            "Found 60 images belonging to 1 classes.\n"
          ]
        }
      ]
    },
    {
      "cell_type": "code",
      "source": [
        "model=keras.Sequential([layers.Conv2D(32,(3,3),activation='relu',input_shape=(IMG_SIZE,IMG_SIZE,3)),\n",
        "layers.MaxPooling2D((2,2)),\n",
        "layers.Conv2D(32,(3,3),activation='relu'),\n",
        "layers.MaxPooling2D((2,2)),\n",
        "layers.Conv2D(64,(3,3),activation='relu'),\n",
        "layers.MaxPooling2D((2,2)),\n",
        "layers.Flatten(),\n",
        "layers.Dense(128,activation='relu'),\n",
        "layers.Dense(1,activation='sigmoid')])"
      ],
      "metadata": {
        "id": "aDURUUlDjkjf"
      },
      "execution_count": null,
      "outputs": []
    },
    {
      "cell_type": "code",
      "source": [
        "model.compile(optimizer='adam',loss='binary_crossentropy',metrics=['accuracy'])"
      ],
      "metadata": {
        "id": "Wq0hQX4Wk-3T"
      },
      "execution_count": null,
      "outputs": []
    },
    {
      "cell_type": "code",
      "source": [
        "history=model.fit(train_generator,validation_data=val_generator,epochs=5)"
      ],
      "metadata": {
        "colab": {
          "base_uri": "https://localhost:8080/"
        },
        "id": "vT30e6b0pXB1",
        "outputId": "ae247351-e5f2-4796-b959-6d1ec00b2883"
      },
      "execution_count": null,
      "outputs": [
        {
          "output_type": "stream",
          "name": "stdout",
          "text": [
            "Epoch 1/5\n",
            "75/75 [==============================] - 379s 5s/step - loss: 0.4623 - accuracy: 0.7979 - val_loss: 0.2717 - val_accuracy: 0.9000\n",
            "Epoch 2/5\n",
            "75/75 [==============================] - 173s 2s/step - loss: 0.2078 - accuracy: 0.9225 - val_loss: 0.1187 - val_accuracy: 0.9567\n",
            "Epoch 3/5\n",
            "75/75 [==============================] - 177s 2s/step - loss: 0.0833 - accuracy: 0.9733 - val_loss: 0.0453 - val_accuracy: 0.9800\n",
            "Epoch 4/5\n",
            "75/75 [==============================] - 177s 2s/step - loss: 0.0551 - accuracy: 0.9817 - val_loss: 0.0820 - val_accuracy: 0.9817\n",
            "Epoch 5/5\n",
            "75/75 [==============================] - 172s 2s/step - loss: 0.0429 - accuracy: 0.9883 - val_loss: 0.0492 - val_accuracy: 0.9800\n"
          ]
        }
      ]
    },
    {
      "cell_type": "code",
      "source": [
        "model.save(\"Model.h5\",\"label.txt\")"
      ],
      "metadata": {
        "colab": {
          "base_uri": "https://localhost:8080/"
        },
        "id": "FEiE1S44vVty",
        "outputId": "28b084a7-9df0-4cf6-fdce-644ee0a39413"
      },
      "execution_count": null,
      "outputs": [
        {
          "output_type": "stream",
          "name": "stderr",
          "text": [
            "/usr/local/lib/python3.10/dist-packages/keras/src/engine/training.py:3103: UserWarning: You are saving your model as an HDF5 file via `model.save()`. This file format is considered legacy. We recommend using instead the native Keras format, e.g. `model.save('my_model.keras')`.\n",
            "  saving_api.save_model(\n"
          ]
        }
      ]
    },
    {
      "cell_type": "code",
      "source": [
        "from tensorflow.keras.models import load_model\n",
        "from tensorflow.keras.preprocessing import image\n",
        "import numpy as np\n",
        "model=load_model('/content/Model.h5')\n",
        "test_image_path='/content/drive/MyDrive/KOGGLE/TEST/pred/pred1.jpg'\n",
        "img=image.load_img(test_image_path,target_size=(224,224))\n",
        "img_array=image.img_to_array(img)\n",
        "img_array=np.expand_dims(img_array,axis=0)\n",
        "img_array /=255.\n",
        "prediction=model.predict(img_array)\n",
        "if prediction<0.5:\n",
        "    print(\"Prediction:No tumor(Probability:\",prediction[0][0],\")\")\n",
        "else:\n",
        "    print(\"Prediction:No tumor(probability:\",prediction[0][0],\")\")"
      ],
      "metadata": {
        "colab": {
          "base_uri": "https://localhost:8080/"
        },
        "id": "jNF3zfo1e4n9",
        "outputId": "705d1373-10b5-42be-f6c7-9b631f79b720"
      },
      "execution_count": null,
      "outputs": [
        {
          "output_type": "stream",
          "name": "stdout",
          "text": [
            "1/1 [==============================] - 0s 139ms/step\n",
            "Prediction:No tumor(Probability: 1.8528512e-08 )\n"
          ]
        }
      ]
    }
  ]
}